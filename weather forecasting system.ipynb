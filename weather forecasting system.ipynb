{
 "cells": [
  {
   "cell_type": "code",
   "execution_count": 97,
   "id": "104d41fc-48ee-4cbc-acd2-4d596182abb3",
   "metadata": {},
   "outputs": [],
   "source": [
    "import pandas as pd\n",
    "import numpy as np\n",
    "import matplotlib.pyplot as plt\n",
    "import seaborn as sns\n",
    "%matplotlib inline \n",
    "from sklearn.model_selection import train_test_split\n",
    "from sklearn.preprocessing import StandardScaler, LabelEncoder\n",
    "import statsmodels.api as sm\n",
    "from sklearn.metrics import r2_score\n",
    "from sklearn.metrics import mean_absolute_error, mean_squared_error\n",
    "from sklearn.neighbors import LocalOutlierFactor\n",
    "pd.set_option(\"display.max_columns\", None)\n",
    "pd.set_option(\"display.max_rows\", None)\n",
    "pd.set_option(\"display.width\", 500)\n",
    "pd.set_option(\"display.float_format\", lambda x: \"%.3f\" % x)\n",
    "import warnings\n",
    "warnings.filterwarnings(\"ignore\")\n"
   ]
  },
  {
   "cell_type": "code",
   "execution_count": 98,
   "id": "cba80d74-1c19-4e29-9f77-c7666765b4ed",
   "metadata": {},
   "outputs": [
    {
     "data": {
      "text/plain": [
       "'C:\\\\Users\\\\USER\\\\project'"
      ]
     },
     "execution_count": 98,
     "metadata": {},
     "output_type": "execute_result"
    }
   ],
   "source": [
    "%pwd"
   ]
  },
  {
   "cell_type": "code",
   "execution_count": 99,
   "id": "b8cfe915-ce8a-4c05-b9f0-9a09789ceb26",
   "metadata": {},
   "outputs": [
    {
     "name": "stdout",
     "output_type": "stream",
     "text": [
      "  country    city  latitude  longitude    temp  temp_min  temp_max  pressure  humidity  sea_level  ground_level  wind_speed  wind_degree              sunrise               sunset  timezone  cloud description region  population        date\n",
      "0      NG   Ankpa     7.380      7.650 311.930   311.930   311.930      1006        28       1006           964       0.440           34  2024-02-21 05:45:30  2024-02-21 17:41:02      3600     56      Clouds   Kogi       56362  2024-02-21\n",
      "1      NG  Bugana     7.870      7.510 313.100   313.100   313.100      1006        29       1006           993       1.860           35  2024-02-21 05:46:26  2024-02-21 17:41:13      3600     46      Clouds   Kogi       11026  2024-02-21\n",
      "2      NG   Adoru     7.170      7.040 311.610   311.610   311.610      1006        34       1006           993       1.780          211  2024-02-21 05:47:47  2024-02-21 17:43:38      3600     43      Clouds   Kogi       12230  2024-02-21\n",
      "3      NG   Ankpa     7.320      7.670 312.750   312.750   312.750      1006        28       1006           974       0.350           45  2024-02-21 05:45:22  2024-02-21 17:41:00      3600     60      Clouds   Kogi       12470  2024-02-21\n",
      "4      NG  Abocho     7.570      6.990 310.250   310.250   310.250      1006        33       1006           961       1.630          219  2024-02-21 05:48:17  2024-02-21 17:43:31      3600     40      Clouds   Kogi       13261  2024-02-21\n"
     ]
    }
   ],
   "source": [
    "# Load the Excel file\n",
    "\n",
    "df = pd.read_csv( 'nigeria_cities_weather_data.csv')\n",
    "\n",
    "# Display the first few rows of the DataFrame\n",
    "print(df.head())"
   ]
  },
  {
   "cell_type": "code",
   "execution_count": null,
   "id": "5acd3cb2-75ce-4f96-a6c4-7f48e2b1be4c",
   "metadata": {},
   "outputs": [],
   "source": []
  },
  {
   "cell_type": "code",
   "execution_count": 100,
   "id": "4f33a7a8-2739-4fa0-a683-b194040d5f26",
   "metadata": {},
   "outputs": [
    {
     "data": {
      "text/html": [
       "<div>\n",
       "<style scoped>\n",
       "    .dataframe tbody tr th:only-of-type {\n",
       "        vertical-align: middle;\n",
       "    }\n",
       "\n",
       "    .dataframe tbody tr th {\n",
       "        vertical-align: top;\n",
       "    }\n",
       "\n",
       "    .dataframe thead th {\n",
       "        text-align: right;\n",
       "    }\n",
       "</style>\n",
       "<table border=\"1\" class=\"dataframe\">\n",
       "  <thead>\n",
       "    <tr style=\"text-align: right;\">\n",
       "      <th></th>\n",
       "      <th>country</th>\n",
       "      <th>city</th>\n",
       "      <th>latitude</th>\n",
       "      <th>longitude</th>\n",
       "      <th>temp</th>\n",
       "      <th>temp_min</th>\n",
       "      <th>temp_max</th>\n",
       "      <th>pressure</th>\n",
       "      <th>humidity</th>\n",
       "      <th>sea_level</th>\n",
       "      <th>ground_level</th>\n",
       "      <th>wind_speed</th>\n",
       "      <th>wind_degree</th>\n",
       "      <th>sunrise</th>\n",
       "      <th>sunset</th>\n",
       "      <th>timezone</th>\n",
       "      <th>cloud</th>\n",
       "      <th>description</th>\n",
       "      <th>region</th>\n",
       "      <th>population</th>\n",
       "      <th>date</th>\n",
       "    </tr>\n",
       "  </thead>\n",
       "  <tbody>\n",
       "    <tr>\n",
       "      <th>0</th>\n",
       "      <td>NG</td>\n",
       "      <td>Ankpa</td>\n",
       "      <td>7.380</td>\n",
       "      <td>7.650</td>\n",
       "      <td>311.930</td>\n",
       "      <td>311.930</td>\n",
       "      <td>311.930</td>\n",
       "      <td>1006</td>\n",
       "      <td>28</td>\n",
       "      <td>1006</td>\n",
       "      <td>964</td>\n",
       "      <td>0.440</td>\n",
       "      <td>34</td>\n",
       "      <td>2024-02-21 05:45:30</td>\n",
       "      <td>2024-02-21 17:41:02</td>\n",
       "      <td>3600</td>\n",
       "      <td>56</td>\n",
       "      <td>Clouds</td>\n",
       "      <td>Kogi</td>\n",
       "      <td>56362</td>\n",
       "      <td>2024-02-21</td>\n",
       "    </tr>\n",
       "  </tbody>\n",
       "</table>\n",
       "</div>"
      ],
      "text/plain": [
       "  country   city  latitude  longitude    temp  temp_min  temp_max  pressure  humidity  sea_level  ground_level  wind_speed  wind_degree              sunrise               sunset  timezone  cloud description region  population        date\n",
       "0      NG  Ankpa     7.380      7.650 311.930   311.930   311.930      1006        28       1006           964       0.440           34  2024-02-21 05:45:30  2024-02-21 17:41:02      3600     56      Clouds   Kogi       56362  2024-02-21"
      ]
     },
     "execution_count": 100,
     "metadata": {},
     "output_type": "execute_result"
    }
   ],
   "source": [
    "df.head(1)"
   ]
  },
  {
   "cell_type": "code",
   "execution_count": 101,
   "id": "cde39444-5cb9-4200-8316-37c5ad423ed8",
   "metadata": {},
   "outputs": [
    {
     "name": "stdout",
     "output_type": "stream",
     "text": [
      "(22541, 21)\n"
     ]
    }
   ],
   "source": [
    "print(df.shape)\n"
   ]
  },
  {
   "cell_type": "code",
   "execution_count": 102,
   "id": "fff9e4d6-ac61-4b63-92f0-94d9a97d0035",
   "metadata": {},
   "outputs": [
    {
     "name": "stdout",
     "output_type": "stream",
     "text": [
      "<class 'pandas.core.frame.DataFrame'>\n",
      "RangeIndex: 22541 entries, 0 to 22540\n",
      "Data columns (total 21 columns):\n",
      " #   Column        Non-Null Count  Dtype  \n",
      "---  ------        --------------  -----  \n",
      " 0   country       22541 non-null  object \n",
      " 1   city          22541 non-null  object \n",
      " 2   latitude      22541 non-null  float64\n",
      " 3   longitude     22541 non-null  float64\n",
      " 4   temp          22541 non-null  float64\n",
      " 5   temp_min      22541 non-null  float64\n",
      " 6   temp_max      22541 non-null  float64\n",
      " 7   pressure      22541 non-null  int64  \n",
      " 8   humidity      22541 non-null  int64  \n",
      " 9   sea_level     22541 non-null  int64  \n",
      " 10  ground_level  22541 non-null  int64  \n",
      " 11  wind_speed    22541 non-null  float64\n",
      " 12  wind_degree   22541 non-null  int64  \n",
      " 13  sunrise       22541 non-null  object \n",
      " 14  sunset        22541 non-null  object \n",
      " 15  timezone      22541 non-null  int64  \n",
      " 16  cloud         22541 non-null  int64  \n",
      " 17  description   22541 non-null  object \n",
      " 18  region        22541 non-null  object \n",
      " 19  population    22541 non-null  int64  \n",
      " 20  date          22541 non-null  object \n",
      "dtypes: float64(6), int64(8), object(7)\n",
      "memory usage: 3.6+ MB\n",
      "None\n"
     ]
    }
   ],
   "source": [
    "print(df.info())"
   ]
  },
  {
   "cell_type": "code",
   "execution_count": 103,
   "id": "819284cf-4b22-446f-9693-d6b58193607f",
   "metadata": {},
   "outputs": [
    {
     "name": "stdout",
     "output_type": "stream",
     "text": [
      "       latitude  longitude      temp  temp_min  temp_max  pressure  humidity  sea_level  ground_level  wind_speed  wind_degree  timezone     cloud  population\n",
      "count 22541.000  22541.000 22541.000 22541.000 22541.000 22541.000 22541.000  22541.000     22541.000   22541.000    22541.000 22541.000 22541.000   22541.000\n",
      "mean      8.609      8.841   303.319   303.319   303.319  1010.194    38.043   1010.194       976.205       2.940      134.335  3600.000    71.735   53158.651\n",
      "std       2.608      3.081     4.000     4.000     4.000     2.305    22.000      2.305        27.642       1.545      103.008     0.000    35.938  152217.319\n",
      "min       4.330      2.880   291.090   291.090   291.090  1003.000     7.000   1003.000       873.000       0.030        0.000  3600.000     0.000       0.000\n",
      "25%       6.310      6.870   300.810   300.810   300.810  1009.000    19.000   1009.000       954.000       1.780       39.000  3600.000    47.000    5780.000\n",
      "50%       9.480      7.550   303.440   303.440   303.440  1011.000    34.000   1011.000       978.000       2.650       95.000  3600.000    93.000   10169.000\n",
      "75%      10.780     12.160   305.800   305.800   305.800  1012.000    58.000   1012.000      1005.000       3.970      216.000  3600.000   100.000   26761.000\n",
      "max      13.580     14.510   314.130   314.130   314.130  1015.000    85.000   1015.000      1012.000       8.350      360.000  3600.000   100.000 1777118.000\n"
     ]
    }
   ],
   "source": [
    "#summary statistics\n",
    "print(df.describe())"
   ]
  },
  {
   "cell_type": "code",
   "execution_count": 104,
   "id": "252d2472-f0b0-406e-9b3d-fcd72aba05eb",
   "metadata": {},
   "outputs": [
    {
     "name": "stdout",
     "output_type": "stream",
     "text": [
      "country         0\n",
      "city            0\n",
      "latitude        0\n",
      "longitude       0\n",
      "temp            0\n",
      "temp_min        0\n",
      "temp_max        0\n",
      "pressure        0\n",
      "humidity        0\n",
      "sea_level       0\n",
      "ground_level    0\n",
      "wind_speed      0\n",
      "wind_degree     0\n",
      "sunrise         0\n",
      "sunset          0\n",
      "timezone        0\n",
      "cloud           0\n",
      "description     0\n",
      "region          0\n",
      "population      0\n",
      "date            0\n",
      "dtype: int64\n",
      "country          object\n",
      "city             object\n",
      "latitude        float64\n",
      "longitude       float64\n",
      "temp            float64\n",
      "temp_min        float64\n",
      "temp_max        float64\n",
      "pressure          int64\n",
      "humidity          int64\n",
      "sea_level         int64\n",
      "ground_level      int64\n",
      "wind_speed      float64\n",
      "wind_degree       int64\n",
      "sunrise          object\n",
      "sunset           object\n",
      "timezone          int64\n",
      "cloud             int64\n",
      "description      object\n",
      "region           object\n",
      "population        int64\n",
      "date             object\n",
      "dtype: object\n"
     ]
    }
   ],
   "source": [
    "#missing values\n",
    "print(df.isnull().sum())\n",
    "\n",
    "\n",
    "#data types of column\n",
    "print(df.dtypes)\n"
   ]
  },
  {
   "cell_type": "code",
   "execution_count": 105,
   "id": "ded05b82-ff6c-448a-bb9e-6d048f7c48ba",
   "metadata": {},
   "outputs": [],
   "source": [
    "#Remove duplicates\n",
    "df = df.drop_duplicates()"
   ]
  },
  {
   "cell_type": "code",
   "execution_count": 106,
   "id": "e8463b30-b2c9-4290-bba1-4c7c3eb27f51",
   "metadata": {},
   "outputs": [],
   "source": [
    "# Fill missing numerical values with the mean\n",
    "numerical_cols = ['temp', 'temp_min', 'temp_max', 'pressure', 'humidity', 'sea_level', 'ground_level', 'wind_speed', 'wind_degree', 'cloud', 'population']\n",
    "df[numerical_cols] = df[numerical_cols].fillna(df[numerical_cols].mean())\n"
   ]
  },
  {
   "cell_type": "code",
   "execution_count": 107,
   "id": "fe073e2d-2017-4238-88e8-23dbbf63f018",
   "metadata": {},
   "outputs": [],
   "source": [
    "# Fill missing categorical values with the mode\n",
    "categorical_cols = ['description', 'region']\n",
    "df[categorical_cols] = df[categorical_cols].fillna(df[categorical_cols].mode().iloc[0])\n",
    "\n"
   ]
  },
  {
   "cell_type": "code",
   "execution_count": 108,
   "id": "89916fc3-e5ed-4f67-8cd8-60f879311703",
   "metadata": {},
   "outputs": [],
   "source": [
    "# Convert date to datetime format\n",
    "df['date'] = pd.to_datetime(df['date'])\n",
    "df['sunrise'] = pd.to_datetime(df['sunrise'])\n",
    "df['sunset'] = pd.to_datetime(df['sunset'])\n"
   ]
  },
  {
   "cell_type": "code",
   "execution_count": 109,
   "id": "5991e340-ca53-4232-b569-648cf11f91ab",
   "metadata": {},
   "outputs": [],
   "source": [
    "# Extract features from the date\n",
    "df['day'] = df['date'].dt.day\n",
    "df['month'] = df['date'].dt.month\n",
    "df['year'] = df['date'].dt.year"
   ]
  },
  {
   "cell_type": "code",
   "execution_count": 110,
   "id": "bb295ce5-d24f-4f59-adf2-2a3ef34121d3",
   "metadata": {},
   "outputs": [],
   "source": [
    "# Drop the original date column\n",
    "df.drop(columns=['date'], inplace=True)"
   ]
  },
  {
   "cell_type": "code",
   "execution_count": 111,
   "id": "291f0cf6-372d-42c2-9dcc-dc634b4c5d0d",
   "metadata": {},
   "outputs": [],
   "source": [
    "# Encode city names and region\n",
    "label_encoder = LabelEncoder()\n",
    "df['city_encoded'] = label_encoder.fit_transform(df['city'])\n",
    "df['region_encoded'] = label_encoder.fit_transform(df['region'])\n",
    "\n"
   ]
  },
  {
   "cell_type": "code",
   "execution_count": 112,
   "id": "af1ab531-aa66-4b55-96c1-ae4267b760cc",
   "metadata": {},
   "outputs": [],
   "source": [
    "# Drop the original categorical columns\n",
    "df.drop(columns=['country','sunrise','sunset','timezone','description','region','city'], inplace=True)"
   ]
  },
  {
   "cell_type": "code",
   "execution_count": 113,
   "id": "58b1cd9c-96fe-4f63-8b60-d39c1bc384fa",
   "metadata": {},
   "outputs": [],
   "source": [
    "features = ['city_encoded', 'latitude', 'longitude', 'pressure', 'humidity', 'sea_level', 'ground_level', 'wind_speed', 'wind_degree', 'cloud', 'population', 'day', 'month', 'year']\n",
    "target = 'temp'\n",
    "X = df[features]\n",
    "y = df[target]"
   ]
  },
  {
   "cell_type": "code",
   "execution_count": 114,
   "id": "03d7f669-d407-406a-8e28-af3408009b6d",
   "metadata": {},
   "outputs": [
    {
     "data": {
      "text/html": [
       "<div>\n",
       "<style scoped>\n",
       "    .dataframe tbody tr th:only-of-type {\n",
       "        vertical-align: middle;\n",
       "    }\n",
       "\n",
       "    .dataframe tbody tr th {\n",
       "        vertical-align: top;\n",
       "    }\n",
       "\n",
       "    .dataframe thead th {\n",
       "        text-align: right;\n",
       "    }\n",
       "</style>\n",
       "<table border=\"1\" class=\"dataframe\">\n",
       "  <thead>\n",
       "    <tr style=\"text-align: right;\">\n",
       "      <th></th>\n",
       "      <th>latitude</th>\n",
       "      <th>longitude</th>\n",
       "      <th>temp</th>\n",
       "      <th>temp_min</th>\n",
       "      <th>temp_max</th>\n",
       "      <th>pressure</th>\n",
       "      <th>humidity</th>\n",
       "      <th>sea_level</th>\n",
       "      <th>ground_level</th>\n",
       "      <th>wind_speed</th>\n",
       "      <th>wind_degree</th>\n",
       "      <th>cloud</th>\n",
       "      <th>population</th>\n",
       "      <th>day</th>\n",
       "      <th>month</th>\n",
       "      <th>year</th>\n",
       "      <th>city_encoded</th>\n",
       "      <th>region_encoded</th>\n",
       "    </tr>\n",
       "  </thead>\n",
       "  <tbody>\n",
       "    <tr>\n",
       "      <th>0</th>\n",
       "      <td>7.380</td>\n",
       "      <td>7.650</td>\n",
       "      <td>311.930</td>\n",
       "      <td>311.930</td>\n",
       "      <td>311.930</td>\n",
       "      <td>1006</td>\n",
       "      <td>28</td>\n",
       "      <td>1006</td>\n",
       "      <td>964</td>\n",
       "      <td>0.440</td>\n",
       "      <td>34</td>\n",
       "      <td>56</td>\n",
       "      <td>56362</td>\n",
       "      <td>21</td>\n",
       "      <td>2</td>\n",
       "      <td>2024</td>\n",
       "      <td>11</td>\n",
       "      <td>3</td>\n",
       "    </tr>\n",
       "    <tr>\n",
       "      <th>1</th>\n",
       "      <td>7.870</td>\n",
       "      <td>7.510</td>\n",
       "      <td>313.100</td>\n",
       "      <td>313.100</td>\n",
       "      <td>313.100</td>\n",
       "      <td>1006</td>\n",
       "      <td>29</td>\n",
       "      <td>1006</td>\n",
       "      <td>993</td>\n",
       "      <td>1.860</td>\n",
       "      <td>35</td>\n",
       "      <td>46</td>\n",
       "      <td>11026</td>\n",
       "      <td>21</td>\n",
       "      <td>2</td>\n",
       "      <td>2024</td>\n",
       "      <td>28</td>\n",
       "      <td>3</td>\n",
       "    </tr>\n",
       "    <tr>\n",
       "      <th>2</th>\n",
       "      <td>7.170</td>\n",
       "      <td>7.040</td>\n",
       "      <td>311.610</td>\n",
       "      <td>311.610</td>\n",
       "      <td>311.610</td>\n",
       "      <td>1006</td>\n",
       "      <td>34</td>\n",
       "      <td>1006</td>\n",
       "      <td>993</td>\n",
       "      <td>1.780</td>\n",
       "      <td>211</td>\n",
       "      <td>43</td>\n",
       "      <td>12230</td>\n",
       "      <td>21</td>\n",
       "      <td>2</td>\n",
       "      <td>2024</td>\n",
       "      <td>3</td>\n",
       "      <td>3</td>\n",
       "    </tr>\n",
       "    <tr>\n",
       "      <th>3</th>\n",
       "      <td>7.320</td>\n",
       "      <td>7.670</td>\n",
       "      <td>312.750</td>\n",
       "      <td>312.750</td>\n",
       "      <td>312.750</td>\n",
       "      <td>1006</td>\n",
       "      <td>28</td>\n",
       "      <td>1006</td>\n",
       "      <td>974</td>\n",
       "      <td>0.350</td>\n",
       "      <td>45</td>\n",
       "      <td>60</td>\n",
       "      <td>12470</td>\n",
       "      <td>21</td>\n",
       "      <td>2</td>\n",
       "      <td>2024</td>\n",
       "      <td>11</td>\n",
       "      <td>3</td>\n",
       "    </tr>\n",
       "    <tr>\n",
       "      <th>4</th>\n",
       "      <td>7.570</td>\n",
       "      <td>6.990</td>\n",
       "      <td>310.250</td>\n",
       "      <td>310.250</td>\n",
       "      <td>310.250</td>\n",
       "      <td>1006</td>\n",
       "      <td>33</td>\n",
       "      <td>1006</td>\n",
       "      <td>961</td>\n",
       "      <td>1.630</td>\n",
       "      <td>219</td>\n",
       "      <td>40</td>\n",
       "      <td>13261</td>\n",
       "      <td>21</td>\n",
       "      <td>2</td>\n",
       "      <td>2024</td>\n",
       "      <td>1</td>\n",
       "      <td>3</td>\n",
       "    </tr>\n",
       "    <tr>\n",
       "      <th>5</th>\n",
       "      <td>6.810</td>\n",
       "      <td>6.640</td>\n",
       "      <td>313.080</td>\n",
       "      <td>313.080</td>\n",
       "      <td>313.080</td>\n",
       "      <td>1006</td>\n",
       "      <td>33</td>\n",
       "      <td>1006</td>\n",
       "      <td>1002</td>\n",
       "      <td>1.110</td>\n",
       "      <td>136</td>\n",
       "      <td>57</td>\n",
       "      <td>7040</td>\n",
       "      <td>21</td>\n",
       "      <td>2</td>\n",
       "      <td>2024</td>\n",
       "      <td>68</td>\n",
       "      <td>3</td>\n",
       "    </tr>\n",
       "    <tr>\n",
       "      <th>6</th>\n",
       "      <td>7.510</td>\n",
       "      <td>7.310</td>\n",
       "      <td>311.430</td>\n",
       "      <td>311.430</td>\n",
       "      <td>311.430</td>\n",
       "      <td>1006</td>\n",
       "      <td>29</td>\n",
       "      <td>1006</td>\n",
       "      <td>965</td>\n",
       "      <td>1.470</td>\n",
       "      <td>225</td>\n",
       "      <td>51</td>\n",
       "      <td>13261</td>\n",
       "      <td>21</td>\n",
       "      <td>2</td>\n",
       "      <td>2024</td>\n",
       "      <td>1</td>\n",
       "      <td>3</td>\n",
       "    </tr>\n",
       "    <tr>\n",
       "      <th>7</th>\n",
       "      <td>8.410</td>\n",
       "      <td>7.000</td>\n",
       "      <td>314.130</td>\n",
       "      <td>314.130</td>\n",
       "      <td>314.130</td>\n",
       "      <td>1006</td>\n",
       "      <td>27</td>\n",
       "      <td>1006</td>\n",
       "      <td>986</td>\n",
       "      <td>0.840</td>\n",
       "      <td>214</td>\n",
       "      <td>37</td>\n",
       "      <td>5864</td>\n",
       "      <td>21</td>\n",
       "      <td>2</td>\n",
       "      <td>2024</td>\n",
       "      <td>27</td>\n",
       "      <td>3</td>\n",
       "    </tr>\n",
       "    <tr>\n",
       "      <th>8</th>\n",
       "      <td>7.580</td>\n",
       "      <td>6.180</td>\n",
       "      <td>311.010</td>\n",
       "      <td>311.010</td>\n",
       "      <td>311.010</td>\n",
       "      <td>1006</td>\n",
       "      <td>29</td>\n",
       "      <td>1006</td>\n",
       "      <td>957</td>\n",
       "      <td>0.880</td>\n",
       "      <td>233</td>\n",
       "      <td>70</td>\n",
       "      <td>280024</td>\n",
       "      <td>21</td>\n",
       "      <td>2</td>\n",
       "      <td>2024</td>\n",
       "      <td>107</td>\n",
       "      <td>3</td>\n",
       "    </tr>\n",
       "    <tr>\n",
       "      <th>9</th>\n",
       "      <td>7.300</td>\n",
       "      <td>7.340</td>\n",
       "      <td>312.160</td>\n",
       "      <td>312.160</td>\n",
       "      <td>312.160</td>\n",
       "      <td>1006</td>\n",
       "      <td>31</td>\n",
       "      <td>1006</td>\n",
       "      <td>986</td>\n",
       "      <td>1.740</td>\n",
       "      <td>236</td>\n",
       "      <td>56</td>\n",
       "      <td>10641</td>\n",
       "      <td>21</td>\n",
       "      <td>2</td>\n",
       "      <td>2024</td>\n",
       "      <td>48</td>\n",
       "      <td>3</td>\n",
       "    </tr>\n",
       "  </tbody>\n",
       "</table>\n",
       "</div>"
      ],
      "text/plain": [
       "   latitude  longitude    temp  temp_min  temp_max  pressure  humidity  sea_level  ground_level  wind_speed  wind_degree  cloud  population  day  month  year  city_encoded  region_encoded\n",
       "0     7.380      7.650 311.930   311.930   311.930      1006        28       1006           964       0.440           34     56       56362   21      2  2024            11               3\n",
       "1     7.870      7.510 313.100   313.100   313.100      1006        29       1006           993       1.860           35     46       11026   21      2  2024            28               3\n",
       "2     7.170      7.040 311.610   311.610   311.610      1006        34       1006           993       1.780          211     43       12230   21      2  2024             3               3\n",
       "3     7.320      7.670 312.750   312.750   312.750      1006        28       1006           974       0.350           45     60       12470   21      2  2024            11               3\n",
       "4     7.570      6.990 310.250   310.250   310.250      1006        33       1006           961       1.630          219     40       13261   21      2  2024             1               3\n",
       "5     6.810      6.640 313.080   313.080   313.080      1006        33       1006          1002       1.110          136     57        7040   21      2  2024            68               3\n",
       "6     7.510      7.310 311.430   311.430   311.430      1006        29       1006           965       1.470          225     51       13261   21      2  2024             1               3\n",
       "7     8.410      7.000 314.130   314.130   314.130      1006        27       1006           986       0.840          214     37        5864   21      2  2024            27               3\n",
       "8     7.580      6.180 311.010   311.010   311.010      1006        29       1006           957       0.880          233     70      280024   21      2  2024           107               3\n",
       "9     7.300      7.340 312.160   312.160   312.160      1006        31       1006           986       1.740          236     56       10641   21      2  2024            48               3"
      ]
     },
     "execution_count": 114,
     "metadata": {},
     "output_type": "execute_result"
    }
   ],
   "source": [
    "df.head(10)"
   ]
  },
  {
   "cell_type": "code",
   "execution_count": 115,
   "id": "8d4a3efe-0eed-40a4-9398-ca60e65a63b1",
   "metadata": {},
   "outputs": [
    {
     "data": {
      "image/png": "[encoded data removed]",
      "text/plain": [
       "<Figure size 1200x600 with 1 Axes>"
      ]
     },
     "metadata": {},
     "output_type": "display_data"
    }
   ],
   "source": [
    "plt.figure(figsize=(12, 6))\n",
    "sns.boxplot(data=df)\n",
    "plt.xticks(rotation=90)\n",
    "plt.title(\"Outlier Detection\")\n",
    "plt.show()\n"
   ]
  },
  {
   "cell_type": "code",
   "execution_count": 116,
   "id": "db2c6fc9-31d8-44b2-8260-691b21478eb3",
   "metadata": {},
   "outputs": [
    {
     "data": {
      "text/html": [
       "<div>\n",
       "<style scoped>\n",
       "    .dataframe tbody tr th:only-of-type {\n",
       "        vertical-align: middle;\n",
       "    }\n",
       "\n",
       "    .dataframe tbody tr th {\n",
       "        vertical-align: top;\n",
       "    }\n",
       "\n",
       "    .dataframe thead th {\n",
       "        text-align: right;\n",
       "    }\n",
       "</style>\n",
       "<table border=\"1\" class=\"dataframe\">\n",
       "  <thead>\n",
       "    <tr style=\"text-align: right;\">\n",
       "      <th></th>\n",
       "      <th>latitude</th>\n",
       "      <th>longitude</th>\n",
       "      <th>temp</th>\n",
       "      <th>temp_min</th>\n",
       "      <th>temp_max</th>\n",
       "      <th>pressure</th>\n",
       "      <th>humidity</th>\n",
       "      <th>sea_level</th>\n",
       "      <th>ground_level</th>\n",
       "      <th>wind_speed</th>\n",
       "      <th>wind_degree</th>\n",
       "      <th>cloud</th>\n",
       "      <th>population</th>\n",
       "      <th>day</th>\n",
       "      <th>month</th>\n",
       "      <th>year</th>\n",
       "      <th>city_encoded</th>\n",
       "      <th>region_encoded</th>\n",
       "    </tr>\n",
       "  </thead>\n",
       "  <tbody>\n",
       "    <tr>\n",
       "      <th>latitude</th>\n",
       "      <td>1.000</td>\n",
       "      <td>0.760</td>\n",
       "      <td>-0.132</td>\n",
       "      <td>-0.132</td>\n",
       "      <td>-0.132</td>\n",
       "      <td>0.405</td>\n",
       "      <td>-0.750</td>\n",
       "      <td>0.405</td>\n",
       "      <td>-0.720</td>\n",
       "      <td>0.378</td>\n",
       "      <td>-0.646</td>\n",
       "      <td>-0.067</td>\n",
       "      <td>-0.243</td>\n",
       "      <td>0.051</td>\n",
       "      <td>NaN</td>\n",
       "      <td>NaN</td>\n",
       "      <td>0.138</td>\n",
       "      <td>-0.680</td>\n",
       "    </tr>\n",
       "    <tr>\n",
       "      <th>longitude</th>\n",
       "      <td>0.760</td>\n",
       "      <td>1.000</td>\n",
       "      <td>0.055</td>\n",
       "      <td>0.055</td>\n",
       "      <td>0.055</td>\n",
       "      <td>0.217</td>\n",
       "      <td>-0.614</td>\n",
       "      <td>0.217</td>\n",
       "      <td>-0.417</td>\n",
       "      <td>0.422</td>\n",
       "      <td>-0.544</td>\n",
       "      <td>-0.027</td>\n",
       "      <td>-0.335</td>\n",
       "      <td>0.007</td>\n",
       "      <td>NaN</td>\n",
       "      <td>NaN</td>\n",
       "      <td>0.108</td>\n",
       "      <td>-0.615</td>\n",
       "    </tr>\n",
       "    <tr>\n",
       "      <th>temp</th>\n",
       "      <td>-0.132</td>\n",
       "      <td>0.055</td>\n",
       "      <td>1.000</td>\n",
       "      <td>1.000</td>\n",
       "      <td>1.000</td>\n",
       "      <td>-0.640</td>\n",
       "      <td>-0.296</td>\n",
       "      <td>-0.640</td>\n",
       "      <td>0.260</td>\n",
       "      <td>0.221</td>\n",
       "      <td>-0.002</td>\n",
       "      <td>-0.079</td>\n",
       "      <td>0.028</td>\n",
       "      <td>-0.249</td>\n",
       "      <td>NaN</td>\n",
       "      <td>NaN</td>\n",
       "      <td>-0.011</td>\n",
       "      <td>-0.024</td>\n",
       "    </tr>\n",
       "    <tr>\n",
       "      <th>temp_min</th>\n",
       "      <td>-0.132</td>\n",
       "      <td>0.055</td>\n",
       "      <td>1.000</td>\n",
       "      <td>1.000</td>\n",
       "      <td>1.000</td>\n",
       "      <td>-0.640</td>\n",
       "      <td>-0.296</td>\n",
       "      <td>-0.640</td>\n",
       "      <td>0.260</td>\n",
       "      <td>0.221</td>\n",
       "      <td>-0.002</td>\n",
       "      <td>-0.079</td>\n",
       "      <td>0.028</td>\n",
       "      <td>-0.249</td>\n",
       "      <td>NaN</td>\n",
       "      <td>NaN</td>\n",
       "      <td>-0.011</td>\n",
       "      <td>-0.024</td>\n",
       "    </tr>\n",
       "    <tr>\n",
       "      <th>temp_max</th>\n",
       "      <td>-0.132</td>\n",
       "      <td>0.055</td>\n",
       "      <td>1.000</td>\n",
       "      <td>1.000</td>\n",
       "      <td>1.000</td>\n",
       "      <td>-0.640</td>\n",
       "      <td>-0.296</td>\n",
       "      <td>-0.640</td>\n",
       "      <td>0.260</td>\n",
       "      <td>0.221</td>\n",
       "      <td>-0.002</td>\n",
       "      <td>-0.079</td>\n",
       "      <td>0.028</td>\n",
       "      <td>-0.249</td>\n",
       "      <td>NaN</td>\n",
       "      <td>NaN</td>\n",
       "      <td>-0.011</td>\n",
       "      <td>-0.024</td>\n",
       "    </tr>\n",
       "    <tr>\n",
       "      <th>pressure</th>\n",
       "      <td>0.405</td>\n",
       "      <td>0.217</td>\n",
       "      <td>-0.640</td>\n",
       "      <td>-0.640</td>\n",
       "      <td>-0.640</td>\n",
       "      <td>1.000</td>\n",
       "      <td>-0.083</td>\n",
       "      <td>1.000</td>\n",
       "      <td>-0.387</td>\n",
       "      <td>-0.015</td>\n",
       "      <td>-0.322</td>\n",
       "      <td>-0.075</td>\n",
       "      <td>-0.141</td>\n",
       "      <td>0.590</td>\n",
       "      <td>NaN</td>\n",
       "      <td>NaN</td>\n",
       "      <td>0.052</td>\n",
       "      <td>-0.177</td>\n",
       "    </tr>\n",
       "    <tr>\n",
       "      <th>humidity</th>\n",
       "      <td>-0.750</td>\n",
       "      <td>-0.614</td>\n",
       "      <td>-0.296</td>\n",
       "      <td>-0.296</td>\n",
       "      <td>-0.296</td>\n",
       "      <td>-0.083</td>\n",
       "      <td>1.000</td>\n",
       "      <td>-0.083</td>\n",
       "      <td>0.662</td>\n",
       "      <td>-0.297</td>\n",
       "      <td>0.642</td>\n",
       "      <td>0.123</td>\n",
       "      <td>0.249</td>\n",
       "      <td>0.002</td>\n",
       "      <td>NaN</td>\n",
       "      <td>NaN</td>\n",
       "      <td>-0.111</td>\n",
       "      <td>0.610</td>\n",
       "    </tr>\n",
       "    <tr>\n",
       "      <th>sea_level</th>\n",
       "      <td>0.405</td>\n",
       "      <td>0.217</td>\n",
       "      <td>-0.640</td>\n",
       "      <td>-0.640</td>\n",
       "      <td>-0.640</td>\n",
       "      <td>1.000</td>\n",
       "      <td>-0.083</td>\n",
       "      <td>1.000</td>\n",
       "      <td>-0.387</td>\n",
       "      <td>-0.015</td>\n",
       "      <td>-0.322</td>\n",
       "      <td>-0.075</td>\n",
       "      <td>-0.141</td>\n",
       "      <td>0.590</td>\n",
       "      <td>NaN</td>\n",
       "      <td>NaN</td>\n",
       "      <td>0.052</td>\n",
       "      <td>-0.177</td>\n",
       "    </tr>\n",
       "    <tr>\n",
       "      <th>ground_level</th>\n",
       "      <td>-0.720</td>\n",
       "      <td>-0.417</td>\n",
       "      <td>0.260</td>\n",
       "      <td>0.260</td>\n",
       "      <td>0.260</td>\n",
       "      <td>-0.387</td>\n",
       "      <td>0.662</td>\n",
       "      <td>-0.387</td>\n",
       "      <td>1.000</td>\n",
       "      <td>-0.112</td>\n",
       "      <td>0.528</td>\n",
       "      <td>0.129</td>\n",
       "      <td>0.231</td>\n",
       "      <td>-0.060</td>\n",
       "      <td>NaN</td>\n",
       "      <td>NaN</td>\n",
       "      <td>-0.120</td>\n",
       "      <td>0.498</td>\n",
       "    </tr>\n",
       "    <tr>\n",
       "      <th>wind_speed</th>\n",
       "      <td>0.378</td>\n",
       "      <td>0.422</td>\n",
       "      <td>0.221</td>\n",
       "      <td>0.221</td>\n",
       "      <td>0.221</td>\n",
       "      <td>-0.015</td>\n",
       "      <td>-0.297</td>\n",
       "      <td>-0.015</td>\n",
       "      <td>-0.112</td>\n",
       "      <td>1.000</td>\n",
       "      <td>-0.388</td>\n",
       "      <td>-0.009</td>\n",
       "      <td>-0.024</td>\n",
       "      <td>-0.123</td>\n",
       "      <td>NaN</td>\n",
       "      <td>NaN</td>\n",
       "      <td>0.034</td>\n",
       "      <td>-0.209</td>\n",
       "    </tr>\n",
       "    <tr>\n",
       "      <th>wind_degree</th>\n",
       "      <td>-0.646</td>\n",
       "      <td>-0.544</td>\n",
       "      <td>-0.002</td>\n",
       "      <td>-0.002</td>\n",
       "      <td>-0.002</td>\n",
       "      <td>-0.322</td>\n",
       "      <td>0.642</td>\n",
       "      <td>-0.322</td>\n",
       "      <td>0.528</td>\n",
       "      <td>-0.388</td>\n",
       "      <td>1.000</td>\n",
       "      <td>0.009</td>\n",
       "      <td>0.186</td>\n",
       "      <td>-0.088</td>\n",
       "      <td>NaN</td>\n",
       "      <td>NaN</td>\n",
       "      <td>-0.094</td>\n",
       "      <td>0.487</td>\n",
       "    </tr>\n",
       "    <tr>\n",
       "      <th>cloud</th>\n",
       "      <td>-0.067</td>\n",
       "      <td>-0.027</td>\n",
       "      <td>-0.079</td>\n",
       "      <td>-0.079</td>\n",
       "      <td>-0.079</td>\n",
       "      <td>-0.075</td>\n",
       "      <td>0.123</td>\n",
       "      <td>-0.075</td>\n",
       "      <td>0.129</td>\n",
       "      <td>-0.009</td>\n",
       "      <td>0.009</td>\n",
       "      <td>1.000</td>\n",
       "      <td>0.089</td>\n",
       "      <td>-0.576</td>\n",
       "      <td>NaN</td>\n",
       "      <td>NaN</td>\n",
       "      <td>0.033</td>\n",
       "      <td>0.013</td>\n",
       "    </tr>\n",
       "    <tr>\n",
       "      <th>population</th>\n",
       "      <td>-0.243</td>\n",
       "      <td>-0.335</td>\n",
       "      <td>0.028</td>\n",
       "      <td>0.028</td>\n",
       "      <td>0.028</td>\n",
       "      <td>-0.141</td>\n",
       "      <td>0.249</td>\n",
       "      <td>-0.141</td>\n",
       "      <td>0.231</td>\n",
       "      <td>-0.024</td>\n",
       "      <td>0.186</td>\n",
       "      <td>0.089</td>\n",
       "      <td>1.000</td>\n",
       "      <td>-0.083</td>\n",
       "      <td>NaN</td>\n",
       "      <td>NaN</td>\n",
       "      <td>0.081</td>\n",
       "      <td>0.139</td>\n",
       "    </tr>\n",
       "    <tr>\n",
       "      <th>day</th>\n",
       "      <td>0.051</td>\n",
       "      <td>0.007</td>\n",
       "      <td>-0.249</td>\n",
       "      <td>-0.249</td>\n",
       "      <td>-0.249</td>\n",
       "      <td>0.590</td>\n",
       "      <td>0.002</td>\n",
       "      <td>0.590</td>\n",
       "      <td>-0.060</td>\n",
       "      <td>-0.123</td>\n",
       "      <td>-0.088</td>\n",
       "      <td>-0.576</td>\n",
       "      <td>-0.083</td>\n",
       "      <td>1.000</td>\n",
       "      <td>NaN</td>\n",
       "      <td>NaN</td>\n",
       "      <td>0.002</td>\n",
       "      <td>-0.023</td>\n",
       "    </tr>\n",
       "    <tr>\n",
       "      <th>month</th>\n",
       "      <td>NaN</td>\n",
       "      <td>NaN</td>\n",
       "      <td>NaN</td>\n",
       "      <td>NaN</td>\n",
       "      <td>NaN</td>\n",
       "      <td>NaN</td>\n",
       "      <td>NaN</td>\n",
       "      <td>NaN</td>\n",
       "      <td>NaN</td>\n",
       "      <td>NaN</td>\n",
       "      <td>NaN</td>\n",
       "      <td>NaN</td>\n",
       "      <td>NaN</td>\n",
       "      <td>NaN</td>\n",
       "      <td>NaN</td>\n",
       "      <td>NaN</td>\n",
       "      <td>NaN</td>\n",
       "      <td>NaN</td>\n",
       "    </tr>\n",
       "    <tr>\n",
       "      <th>year</th>\n",
       "      <td>NaN</td>\n",
       "      <td>NaN</td>\n",
       "      <td>NaN</td>\n",
       "      <td>NaN</td>\n",
       "      <td>NaN</td>\n",
       "      <td>NaN</td>\n",
       "      <td>NaN</td>\n",
       "      <td>NaN</td>\n",
       "      <td>NaN</td>\n",
       "      <td>NaN</td>\n",
       "      <td>NaN</td>\n",
       "      <td>NaN</td>\n",
       "      <td>NaN</td>\n",
       "      <td>NaN</td>\n",
       "      <td>NaN</td>\n",
       "      <td>NaN</td>\n",
       "      <td>NaN</td>\n",
       "      <td>NaN</td>\n",
       "    </tr>\n",
       "    <tr>\n",
       "      <th>city_encoded</th>\n",
       "      <td>0.138</td>\n",
       "      <td>0.108</td>\n",
       "      <td>-0.011</td>\n",
       "      <td>-0.011</td>\n",
       "      <td>-0.011</td>\n",
       "      <td>0.052</td>\n",
       "      <td>-0.111</td>\n",
       "      <td>0.052</td>\n",
       "      <td>-0.120</td>\n",
       "      <td>0.034</td>\n",
       "      <td>-0.094</td>\n",
       "      <td>0.033</td>\n",
       "      <td>0.081</td>\n",
       "      <td>0.002</td>\n",
       "      <td>NaN</td>\n",
       "      <td>NaN</td>\n",
       "      <td>1.000</td>\n",
       "      <td>-0.153</td>\n",
       "    </tr>\n",
       "    <tr>\n",
       "      <th>region_encoded</th>\n",
       "      <td>-0.680</td>\n",
       "      <td>-0.615</td>\n",
       "      <td>-0.024</td>\n",
       "      <td>-0.024</td>\n",
       "      <td>-0.024</td>\n",
       "      <td>-0.177</td>\n",
       "      <td>0.610</td>\n",
       "      <td>-0.177</td>\n",
       "      <td>0.498</td>\n",
       "      <td>-0.209</td>\n",
       "      <td>0.487</td>\n",
       "      <td>0.013</td>\n",
       "      <td>0.139</td>\n",
       "      <td>-0.023</td>\n",
       "      <td>NaN</td>\n",
       "      <td>NaN</td>\n",
       "      <td>-0.153</td>\n",
       "      <td>1.000</td>\n",
       "    </tr>\n",
       "  </tbody>\n",
       "</table>\n",
       "</div>"
      ],
      "text/plain": [
       "                latitude  longitude   temp  temp_min  temp_max  pressure  humidity  sea_level  ground_level  wind_speed  wind_degree  cloud  population    day  month  year  city_encoded  region_encoded\n",
       "latitude           1.000      0.760 -0.132    -0.132    -0.132     0.405    -0.750      0.405        -0.720       0.378       -0.646 -0.067      -0.243  0.051    NaN   NaN         0.138          -0.680\n",
       "longitude          0.760      1.000  0.055     0.055     0.055     0.217    -0.614      0.217        -0.417       0.422       -0.544 -0.027      -0.335  0.007    NaN   NaN         0.108          -0.615\n",
       "temp              -0.132      0.055  1.000     1.000     1.000    -0.640    -0.296     -0.640         0.260       0.221       -0.002 -0.079       0.028 -0.249    NaN   NaN        -0.011          -0.024\n",
       "temp_min          -0.132      0.055  1.000     1.000     1.000    -0.640    -0.296     -0.640         0.260       0.221       -0.002 -0.079       0.028 -0.249    NaN   NaN        -0.011          -0.024\n",
       "temp_max          -0.132      0.055  1.000     1.000     1.000    -0.640    -0.296     -0.640         0.260       0.221       -0.002 -0.079       0.028 -0.249    NaN   NaN        -0.011          -0.024\n",
       "pressure           0.405      0.217 -0.640    -0.640    -0.640     1.000    -0.083      1.000        -0.387      -0.015       -0.322 -0.075      -0.141  0.590    NaN   NaN         0.052          -0.177\n",
       "humidity          -0.750     -0.614 -0.296    -0.296    -0.296    -0.083     1.000     -0.083         0.662      -0.297        0.642  0.123       0.249  0.002    NaN   NaN        -0.111           0.610\n",
       "sea_level          0.405      0.217 -0.640    -0.640    -0.640     1.000    -0.083      1.000        -0.387      -0.015       -0.322 -0.075      -0.141  0.590    NaN   NaN         0.052          -0.177\n",
       "ground_level      -0.720     -0.417  0.260     0.260     0.260    -0.387     0.662     -0.387         1.000      -0.112        0.528  0.129       0.231 -0.060    NaN   NaN        -0.120           0.498\n",
       "wind_speed         0.378      0.422  0.221     0.221     0.221    -0.015    -0.297     -0.015        -0.112       1.000       -0.388 -0.009      -0.024 -0.123    NaN   NaN         0.034          -0.209\n",
       "wind_degree       -0.646     -0.544 -0.002    -0.002    -0.002    -0.322     0.642     -0.322         0.528      -0.388        1.000  0.009       0.186 -0.088    NaN   NaN        -0.094           0.487\n",
       "cloud             -0.067     -0.027 -0.079    -0.079    -0.079    -0.075     0.123     -0.075         0.129      -0.009        0.009  1.000       0.089 -0.576    NaN   NaN         0.033           0.013\n",
       "population        -0.243     -0.335  0.028     0.028     0.028    -0.141     0.249     -0.141         0.231      -0.024        0.186  0.089       1.000 -0.083    NaN   NaN         0.081           0.139\n",
       "day                0.051      0.007 -0.249    -0.249    -0.249     0.590     0.002      0.590        -0.060      -0.123       -0.088 -0.576      -0.083  1.000    NaN   NaN         0.002          -0.023\n",
       "month                NaN        NaN    NaN       NaN       NaN       NaN       NaN        NaN           NaN         NaN          NaN    NaN         NaN    NaN    NaN   NaN           NaN             NaN\n",
       "year                 NaN        NaN    NaN       NaN       NaN       NaN       NaN        NaN           NaN         NaN          NaN    NaN         NaN    NaN    NaN   NaN           NaN             NaN\n",
       "city_encoded       0.138      0.108 -0.011    -0.011    -0.011     0.052    -0.111      0.052        -0.120       0.034       -0.094  0.033       0.081  0.002    NaN   NaN         1.000          -0.153\n",
       "region_encoded    -0.680     -0.615 -0.024    -0.024    -0.024    -0.177     0.610     -0.177         0.498      -0.209        0.487  0.013       0.139 -0.023    NaN   NaN        -0.153           1.000"
      ]
     },
     "execution_count": 116,
     "metadata": {},
     "output_type": "execute_result"
    }
   ],
   "source": [
    "# checking the correlation of the data\n",
    "g = df.corr()\n",
    "g"
   ]
  },
  {
   "cell_type": "code",
   "execution_count": 117,
   "id": "5037ae91-b161-4a0f-954e-4c1c4a003dc8",
   "metadata": {},
   "outputs": [],
   "source": [
    "X = df['latitude']\n",
    "y = df['temp']"
   ]
  },
  {
   "cell_type": "code",
   "execution_count": 118,
   "id": "1a8beae9-417a-4916-a574-078a42616dca",
   "metadata": {},
   "outputs": [],
   "source": [
    "X_train,X_test,y_train, y_test = train_test_split(X,y, train_size = 0.7, test_size = 0.3, random_state = 100)"
   ]
  },
  {
   "cell_type": "code",
   "execution_count": 119,
   "id": "c4fb5d03-6040-4e7c-b1df-924afff22ede",
   "metadata": {},
   "outputs": [
    {
     "data": {
      "text/plain": [
       "(15774,)"
      ]
     },
     "execution_count": 119,
     "metadata": {},
     "output_type": "execute_result"
    }
   ],
   "source": [
    "X_train.shape"
   ]
  },
  {
   "cell_type": "code",
   "execution_count": 120,
   "id": "ecb91b0e-41a9-433d-a324-58c1b2dca804",
   "metadata": {},
   "outputs": [
    {
     "data": {
      "text/plain": [
       "(6761,)"
      ]
     },
     "execution_count": 120,
     "metadata": {},
     "output_type": "execute_result"
    }
   ],
   "source": [
    "X_test.shape"
   ]
  },
  {
   "cell_type": "code",
   "execution_count": 121,
   "id": "a53fb864-d8ce-49c6-aa88-b0021a8c94c1",
   "metadata": {},
   "outputs": [],
   "source": [
    "#Model building\n",
    "X_train_sm = sm.add_constant(X_train)\n",
    "model = sm.OLS(y_train, X_train_sm).fit()"
   ]
  },
  {
   "cell_type": "code",
   "execution_count": 122,
   "id": "70aaf70b-4d59-487a-9e59-82ef83fec0a0",
   "metadata": {},
   "outputs": [
    {
     "name": "stdout",
     "output_type": "stream",
     "text": [
      "                            OLS Regression Results                            \n",
      "==============================================================================\n",
      "Dep. Variable:                   temp   R-squared:                       0.018\n",
      "Model:                            OLS   Adj. R-squared:                  0.018\n",
      "Method:                 Least Squares   F-statistic:                     291.6\n",
      "Date:                Sun, 16 Feb 2025   Prob (F-statistic):           8.69e-65\n",
      "Time:                        21:13:05   Log-Likelihood:                -44082.\n",
      "No. Observations:               15774   AIC:                         8.817e+04\n",
      "Df Residuals:                   15772   BIC:                         8.818e+04\n",
      "Df Model:                           1                                         \n",
      "Covariance Type:            nonrobust                                         \n",
      "==============================================================================\n",
      "                 coef    std err          t      P>|t|      [0.025      0.975]\n",
      "------------------------------------------------------------------------------\n",
      "const        305.0982      0.109   2801.652      0.000     304.885     305.312\n",
      "latitude      -0.2068      0.012    -17.075      0.000      -0.231      -0.183\n",
      "==============================================================================\n",
      "Omnibus:                       96.906   Durbin-Watson:                   1.997\n",
      "Prob(Omnibus):                  0.000   Jarque-Bera (JB):               68.725\n",
      "Skew:                           0.028   Prob(JB):                     1.19e-15\n",
      "Kurtosis:                       2.682   Cond. No.                         31.4\n",
      "==============================================================================\n",
      "\n",
      "Notes:\n",
      "[1] Standard Errors assume that the covariance matrix of the errors is correctly specified.\n"
     ]
    }
   ],
   "source": [
    "print(model.summary())"
   ]
  },
  {
   "cell_type": "markdown",
   "id": "a768c4a3-e209-430e-b362-023d4008834b",
   "metadata": {},
   "source": [
    "####TEMP = 305.0982 + latitude x-0.2068"
   ]
  },
  {
   "cell_type": "code",
   "execution_count": 124,
   "id": "b3bbd11f-916e-40d1-a709-53ad4054a675",
   "metadata": {},
   "outputs": [
    {
     "data": {
      "image/png": "[encoded data removed]",
      "text/plain": [
       "<Figure size 640x480 with 1 Axes>"
      ]
     },
     "metadata": {},
     "output_type": "display_data"
    }
   ],
   "source": [
    "# Let us show the line fitting:\n",
    "plt.scatter(X_train,y_train)\n",
    "plt.plot(X_train, 305.0982 + X_train * -0.2068,'r')\n",
    "plt.show()"
   ]
  },
  {
   "cell_type": "code",
   "execution_count": 125,
   "id": "9003fef5-3d8c-437b-be90-9ee3611ea4ab",
   "metadata": {},
   "outputs": [],
   "source": [
    "#Residual analysis\n",
    "y_train_pred = model.predict(X_train_sm)"
   ]
  },
  {
   "cell_type": "code",
   "execution_count": 126,
   "id": "f94ade3b-db73-4c45-9ebb-454386d7f5bd",
   "metadata": {},
   "outputs": [
    {
     "data": {
      "text/plain": [
       "20742   303.739\n",
       "9229    303.061\n",
       "7881    303.835\n",
       "7089    302.927\n",
       "6538    303.667\n",
       "dtype: float64"
      ]
     },
     "execution_count": 126,
     "metadata": {},
     "output_type": "execute_result"
    }
   ],
   "source": [
    "y_train_pred.head()"
   ]
  },
  {
   "cell_type": "code",
   "execution_count": 127,
   "id": "6f239511-aa49-4aec-bc21-9b48e9bb2874",
   "metadata": {},
   "outputs": [],
   "source": [
    "residual = (y_train - y_train_pred)"
   ]
  },
  {
   "cell_type": "code",
   "execution_count": 128,
   "id": "3d829104-8930-41e5-bc33-6c29040e6fcf",
   "metadata": {},
   "outputs": [
    {
     "data": {
      "text/plain": [
       "20742    0.291\n",
       "9229    -5.831\n",
       "7881     0.985\n",
       "7089     1.143\n",
       "6538     2.613\n",
       "dtype: float64"
      ]
     },
     "execution_count": 128,
     "metadata": {},
     "output_type": "execute_result"
    }
   ],
   "source": [
    "residual.head()"
   ]
  },
  {
   "cell_type": "code",
   "execution_count": 129,
   "id": "dae8030f-6948-423e-9ab5-0b42149d6bdd",
   "metadata": {},
   "outputs": [
    {
     "data": {
      "text/plain": [
       "<Axes: ylabel='Density'>"
      ]
     },
     "execution_count": 129,
     "metadata": {},
     "output_type": "execute_result"
    },
    {
     "data": {
      "image/png": "[encoded data removed]",
      "text/plain": [
       "<Figure size 640x480 with 1 Axes>"
      ]
     },
     "metadata": {},
     "output_type": "display_data"
    }
   ],
   "source": [
    "sns.distplot(residual)"
   ]
  },
  {
   "cell_type": "code",
   "execution_count": 130,
   "id": "9ffa8ec3-a90d-4d7a-ac41-4db079f47d86",
   "metadata": {},
   "outputs": [
    {
     "data": {
      "text/plain": [
       "<Axes: >"
      ]
     },
     "execution_count": 130,
     "metadata": {},
     "output_type": "execute_result"
    },
    {
     "data": {
      "image/png": "[encoded data removed]",
      "text/plain": [
       "<Figure size 640x480 with 1 Axes>"
      ]
     },
     "metadata": {},
     "output_type": "display_data"
    }
   ],
   "source": [
    "sns.scatterplot(residual)"
   ]
  },
  {
   "cell_type": "code",
   "execution_count": 131,
   "id": "174d287c-ced7-409d-bc1d-33e93cbbc58c",
   "metadata": {},
   "outputs": [],
   "source": [
    "#predictions on the test data\n",
    "X_test_sm = sm.add_constant(X_test)"
   ]
  },
  {
   "cell_type": "code",
   "execution_count": 132,
   "id": "d126c577-707d-4cd2-8199-fb5491407b02",
   "metadata": {},
   "outputs": [],
   "source": [
    "y_pred = model.predict(X_test_sm)"
   ]
  },
  {
   "cell_type": "code",
   "execution_count": 133,
   "id": "9721b356-a95a-47a7-8759-480da07119b1",
   "metadata": {},
   "outputs": [
    {
     "data": {
      "text/plain": [
       "3.9829769287125387"
      ]
     },
     "execution_count": 133,
     "metadata": {},
     "output_type": "execute_result"
    }
   ],
   "source": [
    "#root mean squared error:\n",
    "RMSE = np.sqrt(mean_squared_error(y_test,y_pred))\n",
    "RMSE"
   ]
  },
  {
   "cell_type": "code",
   "execution_count": 134,
   "id": "76808ccd-69fc-4bfe-bca5-fa8c394d07b5",
   "metadata": {},
   "outputs": [
    {
     "data": {
      "text/plain": [
       "0.01578956302930279"
      ]
     },
     "execution_count": 134,
     "metadata": {},
     "output_type": "execute_result"
    }
   ],
   "source": [
    "#r2score\n",
    "r2_score(y_test,y_pred)"
   ]
  },
  {
   "cell_type": "markdown",
   "id": "c43fe00d-3ff0-4ef1-9da3-85d0db6d306c",
   "metadata": {},
   "source": [
    "The model explains 1.58% of variance"
   ]
  },
  {
   "cell_type": "code",
   "execution_count": null,
   "id": "b50d7d2d-1dd6-402e-b41c-10a5290ba493",
   "metadata": {},
   "outputs": [],
   "source": []
  },
  {
   "cell_type": "code",
   "execution_count": 136,
   "id": "490ca132-c183-48b1-a142-a5bd1ca8feed",
   "metadata": {},
   "outputs": [],
   "source": [
    "#save model\n",
    "import joblib"
   ]
  },
  {
   "cell_type": "code",
   "execution_count": 137,
   "id": "48af34d4-3ad0-47ee-8108-fccbc289c479",
   "metadata": {},
   "outputs": [
    {
     "data": {
      "text/plain": [
       "['weather_forecast_model.pkl']"
      ]
     },
     "execution_count": 137,
     "metadata": {},
     "output_type": "execute_result"
    }
   ],
   "source": [
    "joblib.dump(model, 'weather_forecast_model.pkl')\n"
   ]
  },
  {
   "cell_type": "code",
   "execution_count": 145,
   "id": "89f4de04-9b52-4907-a736-6e6253e6af5e",
   "metadata": {},
   "outputs": [
    {
     "ename": "NameError",
     "evalue": "name 'scaler' is not defined",
     "output_type": "error",
     "traceback": [
      "\u001b[1;31m---------------------------------------------------------------------------\u001b[0m",
      "\u001b[1;31mNameError\u001b[0m                                 Traceback (most recent call last)",
      "Cell \u001b[1;32mIn[145], line 1\u001b[0m\n\u001b[1;32m----> 1\u001b[0m joblib\u001b[38;5;241m.\u001b[39mdump(scaler, \u001b[38;5;124m\"\u001b[39m\u001b[38;5;124mscaler.pkl\u001b[39m\u001b[38;5;124m\"\u001b[39m)\n",
      "\u001b[1;31mNameError\u001b[0m: name 'scaler' is not defined"
     ]
    }
   ],
   "source": [
    "joblib.dump(scaler, \"scaler.pkl\")"
   ]
  },
  {
   "cell_type": "code",
   "execution_count": 141,
   "id": "0e2214ee-d273-42df-b1fa-56e8c55695f8",
   "metadata": {},
   "outputs": [
    {
     "ename": "NameError",
     "evalue": "name 'label_enc' is not defined",
     "output_type": "error",
     "traceback": [
      "\u001b[1;31m---------------------------------------------------------------------------\u001b[0m",
      "\u001b[1;31mNameError\u001b[0m                                 Traceback (most recent call last)",
      "Cell \u001b[1;32mIn[141], line 1\u001b[0m\n\u001b[1;32m----> 1\u001b[0m joblib\u001b[38;5;241m.\u001b[39mdump(label_enc, \u001b[38;5;124m\"\u001b[39m\u001b[38;5;124mlabel_encoder.pkl\u001b[39m\u001b[38;5;124m\"\u001b[39m)\n",
      "\u001b[1;31mNameError\u001b[0m: name 'label_enc' is not defined"
     ]
    }
   ],
   "source": [
    "joblib.dump(label_enc, \"label_encoder.pkl\")"
   ]
  },
  {
   "cell_type": "code",
   "execution_count": 174,
   "id": "659afb53-14d8-409f-b385-59259b40bd17",
   "metadata": {},
   "outputs": [],
   "source": [
    "from sklearn.naive_bayes import GaussianNB\n",
    "from sklearn import metrics\n",
    "from sklearn.metrics import accuracy_score\n",
    "from sklearn.metrics import classification_report\n",
    "from sklearn.metrics import precision_recall_curve\n",
    "from sklearn.metrics import confusion_matrix\n",
    "from sklearn.metrics import f1_score"
   ]
  },
  {
   "cell_type": "code",
   "execution_count": 178,
   "id": "0595e6b9-d127-42c6-bda4-c39c661c1126",
   "metadata": {},
   "outputs": [
    {
     "ename": "TypeError",
     "evalue": "'LogisticRegression' object is not subscriptable",
     "output_type": "error",
     "traceback": [
      "\u001b[1;31m---------------------------------------------------------------------------\u001b[0m",
      "\u001b[1;31mTypeError\u001b[0m                                 Traceback (most recent call last)",
      "Cell \u001b[1;32mIn[178], line 1\u001b[0m\n\u001b[1;32m----> 1\u001b[0m X \u001b[38;5;241m=\u001b[39m df[\u001b[38;5;124m'\u001b[39m\u001b[38;5;124mlatitude\u001b[39m\u001b[38;5;124m'\u001b[39m]\n\u001b[0;32m      2\u001b[0m y \u001b[38;5;241m=\u001b[39m df[\u001b[38;5;124m'\u001b[39m\u001b[38;5;124mtemp\u001b[39m\u001b[38;5;124m'\u001b[39m]\n",
      "\u001b[1;31mTypeError\u001b[0m: 'LogisticRegression' object is not subscriptable"
     ]
    }
   ],
   "source": [
    "X = df['latitude']\n",
    "y = df['temp']"
   ]
  },
  {
   "cell_type": "code",
   "execution_count": null,
   "id": "20267e67-6357-45e3-a92b-26386d2084fa",
   "metadata": {},
   "outputs": [],
   "source": []
  }
 ],
 "metadata": {
  "kernelspec": {
   "display_name": "Python 3 (ipykernel)",
   "language": "python",
   "name": "python3"
  },
  "language_info": {
   "codemirror_mode": {
    "name": "ipython",
    "version": 3
   },
   "file_extension": ".py",
   "mimetype": "text/x-python",
   "name": "python",
   "nbconvert_exporter": "python",
   "pygments_lexer": "ipython3",
   "version": "3.12.4"
  }
 },
 "nbformat": 4,
 "nbformat_minor": 5
}
